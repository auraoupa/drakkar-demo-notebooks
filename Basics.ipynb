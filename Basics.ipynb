{
 "cells": [
  {
   "cell_type": "markdown",
   "id": "50344507",
   "metadata": {
    "tags": []
   },
   "source": [
    "# Basic ingredients of cloud computing"
   ]
  },
  {
   "cell_type": "markdown",
   "id": "270ebe59",
   "metadata": {
    "tags": []
   },
   "source": [
    "## Jupyter notebook / Jupyterlab"
   ]
  },
  {
   "cell_type": "markdown",
   "id": "06aad34f",
   "metadata": {},
   "source": [
    "This is where you are right now !\n",
    "\n",
    "You can replace lab by tree to see the notebook interface instead of the lab one"
   ]
  },
  {
   "cell_type": "markdown",
   "id": "61858a5e-ba71-4430-b9d8-30d09b2c22b2",
   "metadata": {},
   "source": [
    "Documentation and try online : https://docs.jupyter.org/en/latest/index.html"
   ]
  },
  {
   "cell_type": "markdown",
   "id": "54fe1171",
   "metadata": {},
   "source": [
    "## Xarray"
   ]
  },
  {
   "cell_type": "markdown",
   "id": "896278e9-3e2b-41c0-bfff-2ed9ff276976",
   "metadata": {},
   "source": [
    "How to handle multi dimensional data\n",
    "\n",
    "DataArray : dictionary-like containers of multiple arrays with multiple dimensions\n",
    "\n",
    "You have data and metadata, coordinates for instance\n",
    "\n",
    "Documentation and tutorial : https://tutorial.xarray.dev/intro.html"
   ]
  },
  {
   "cell_type": "code",
   "execution_count": null,
   "id": "748c5154",
   "metadata": {},
   "outputs": [],
   "source": [
    "import xarray as xr"
   ]
  },
  {
   "cell_type": "code",
   "execution_count": null,
   "id": "481cf12c",
   "metadata": {},
   "outputs": [],
   "source": [
    "# Let's open a dataset that is sitting on the cloud\n",
    "store = 'https://ncsa.osn.xsede.org/Pangeo/pangeo-forge/cmip6-feedstock/CMIP6.CMIP.CCCma.CanESM5.historical.r1i1p1f1.Omon.zos.gn.v20190429.zarr'\n",
    "ds = xr.open_dataset(store, engine='zarr', chunks={})\n",
    "ds"
   ]
  },
  {
   "cell_type": "code",
   "execution_count": null,
   "id": "58311faa-5479-4eb9-9a4b-6e486938f7b6",
   "metadata": {},
   "outputs": [],
   "source": [
    "# Total size of the dataset\n",
    "ds.nbytes/1e9"
   ]
  },
  {
   "cell_type": "code",
   "execution_count": null,
   "id": "deed81ab-2c7c-4bd3-b962-fc72dac5e26f",
   "metadata": {},
   "outputs": [],
   "source": [
    "# We extract one variable\n",
    "ds['zos']"
   ]
  },
  {
   "cell_type": "code",
   "execution_count": null,
   "id": "3f60d7df-b4f4-4f89-8fd0-f494c7626ef3",
   "metadata": {},
   "outputs": [],
   "source": [
    "# What is the value at a particular location\n",
    "ds['zos'][0,100,100].values"
   ]
  },
  {
   "cell_type": "code",
   "execution_count": null,
   "id": "03bb33cb-0e3d-4a16-9edc-2f3c77eb8cea",
   "metadata": {},
   "outputs": [],
   "source": [
    "# We plot a map at one date\n",
    "ds['zos'].isel(time=0).plot()"
   ]
  },
  {
   "cell_type": "code",
   "execution_count": null,
   "id": "fcc52c05-1d73-4ca0-9ceb-9bbd8a4f73fb",
   "metadata": {},
   "outputs": [],
   "source": [
    "# We plot a map at one date\n",
    "ds['zos'].sel(time=\"2014-01-16\").plot()"
   ]
  },
  {
   "cell_type": "code",
   "execution_count": null,
   "id": "1328b150-1dc0-4da7-8549-c6f13ee02260",
   "metadata": {},
   "outputs": [],
   "source": [
    "# A time serie at one location\n",
    "ds['zos'][:,100,100].plot()"
   ]
  },
  {
   "cell_type": "code",
   "execution_count": null,
   "id": "cc499257-4b64-4906-b5a9-7080833905db",
   "metadata": {},
   "outputs": [],
   "source": [
    "# The dataset is so small we can compute means without parallel computation\n",
    "ds['zos'].mean(dim='time').plot()"
   ]
  },
  {
   "cell_type": "markdown",
   "id": "b254809c-f089-40da-9039-b77f7d90b1de",
   "metadata": {
    "tags": []
   },
   "source": [
    "## Intake"
   ]
  },
  {
   "cell_type": "markdown",
   "id": "d95bd46f-54ec-4858-b660-4b57cfa18008",
   "metadata": {},
   "source": [
    "A package to organize, disseminate datasets.\n",
    "\n",
    "Widely used on the cloud to handle catalogs of data.\n",
    "\n",
    "Documentation : https://intake.readthedocs.io/en/latest/"
   ]
  },
  {
   "cell_type": "code",
   "execution_count": null,
   "id": "e9de01fa-0ceb-420a-93ce-40ebed0e2cfe",
   "metadata": {},
   "outputs": [],
   "source": [
    "from intake import open_catalog"
   ]
  },
  {
   "cell_type": "markdown",
   "id": "0529d379-74e5-4828-b437-5990a98be751",
   "metadata": {},
   "source": [
    "Pangeo's online catalog https://catalog.pangeo.io/"
   ]
  },
  {
   "cell_type": "code",
   "execution_count": null,
   "id": "aa0aa600-d261-4163-a995-2dc7319d0b59",
   "metadata": {},
   "outputs": [],
   "source": [
    "# We can explore it both online and in the command line\n",
    "cat = open_catalog(\"https://raw.githubusercontent.com/pangeo-data/pangeo-datastore/master/intake-catalogs/master.yaml\")\n",
    "list(cat)"
   ]
  },
  {
   "cell_type": "code",
   "execution_count": null,
   "id": "ac82c750-e8bb-47bd-8538-420a932d1811",
   "metadata": {},
   "outputs": [],
   "source": [
    "# One level down\n",
    "cat = open_catalog(\"https://raw.githubusercontent.com/pangeo-data/pangeo-datastore/master/intake-catalogs/ocean.yaml\")\n",
    "list(cat)"
   ]
  },
  {
   "cell_type": "code",
   "execution_count": null,
   "id": "8087cc28",
   "metadata": {},
   "outputs": [],
   "source": [
    "# Now we open one dataset\n",
    "from intake import open_catalog\n",
    "cat = open_catalog(\"https://raw.githubusercontent.com/pangeo-data/pangeo-datastore/master/intake-catalogs/ocean.yaml\")\n",
    "ds  = cat[\"sea_surface_height\"].to_dask()\n",
    "ds"
   ]
  },
  {
   "cell_type": "code",
   "execution_count": null,
   "id": "aaa5ea90-77f7-4b89-bfea-e375030480f6",
   "metadata": {},
   "outputs": [],
   "source": [
    "# Total size of the dataset\n",
    "ds.nbytes/1e9"
   ]
  },
  {
   "cell_type": "markdown",
   "id": "1c9ea71d-5e94-42e7-ba64-b05feb7f803d",
   "metadata": {},
   "source": [
    "We don't have this much memory, this time we need parallel computing"
   ]
  },
  {
   "cell_type": "markdown",
   "id": "74b30114",
   "metadata": {},
   "source": [
    "## Dask"
   ]
  },
  {
   "cell_type": "markdown",
   "id": "ea6114df-cd42-4ad0-bc54-a9d385847bad",
   "metadata": {},
   "source": [
    "Parallel computing in python with task scheduling on workers\n",
    "\n",
    "Allows computation to scale from laptop to HPC, cloud\n",
    "\n",
    "Documentation : https://docs.dask.org/en/stable/"
   ]
  },
  {
   "cell_type": "markdown",
   "id": "7a3c3385-fbf0-471e-8cdf-f991ad121194",
   "metadata": {},
   "source": [
    "Click on the Dask tab on the left side of jupyterlab, then +NEW\n",
    "\n",
    "A LocalCluster has been launched, drag and drop it to the notebook below, it should look like this :"
   ]
  },
  {
   "cell_type": "raw",
   "id": "086d3871-be3b-454e-b5a4-93083984c6b5",
   "metadata": {},
   "source": [
    "from dask.distributed import Client\n",
    "\n",
    "client = Client(\"tcp://127.0.0.1:41233\")\n",
    "client"
   ]
  },
  {
   "cell_type": "markdown",
   "id": "05b5366b-c2ea-4211-8b2b-61577dd0e5be",
   "metadata": {},
   "source": [
    "Select some dashboard metrics to follow : Progress, Task Stream, Graph, CPU and Cluster Memory, and rearrange the lab windows"
   ]
  },
  {
   "cell_type": "code",
   "execution_count": null,
   "id": "c2101ade-2d7c-43e2-afb4-25c587d217de",
   "metadata": {},
   "outputs": [],
   "source": [
    "# One variable size\n",
    "ds.sla.nbytes/1e9"
   ]
  },
  {
   "cell_type": "code",
   "execution_count": null,
   "id": "3b8b1deb-0f41-4a14-8f30-d16f4714f1ca",
   "metadata": {},
   "outputs": [],
   "source": [
    "# We only have 15Gb available but we can still handle this variable\n",
    "sla_timeseries = ds.sla.mean(dim=('latitude', 'longitude'))"
   ]
  },
  {
   "cell_type": "code",
   "execution_count": null,
   "id": "069aef07-ba0d-44fd-a924-6605a1b4d79a",
   "metadata": {},
   "outputs": [],
   "source": [
    "# Nothing is happenning while we do not load the computation\n",
    "sla_timeseries.load()"
   ]
  },
  {
   "cell_type": "code",
   "execution_count": null,
   "id": "7fe25ae7-14c6-4cbb-aea5-df78a414fe02",
   "metadata": {},
   "outputs": [],
   "source": [
    "# Let's make a plot\n",
    "\n",
    "import matplotlib.pyplot as plt\n",
    "sla_timeseries.plot(label='full data')\n",
    "sla_timeseries.rolling(time=365, center=True).mean().plot(label='rolling annual mean')\n",
    "plt.ylabel('Sea Level Anomaly [m]')\n",
    "plt.title('Global Mean Sea Level')\n",
    "plt.legend()\n",
    "plt.grid()"
   ]
  },
  {
   "cell_type": "markdown",
   "id": "afcd3064-88a3-45aa-a6a8-f3b60385cdba",
   "metadata": {},
   "source": [
    "That is all for the basics now let's redo some computations from Takaya's paper : [spectra](Spectra-eNATL60.ipynb)"
   ]
  }
 ],
 "metadata": {
  "kernelspec": {
   "display_name": "Python 3 (ipykernel)",
   "language": "python",
   "name": "python3"
  },
  "language_info": {
   "codemirror_mode": {
    "name": "ipython",
    "version": 3
   },
   "file_extension": ".py",
   "mimetype": "text/x-python",
   "name": "python",
   "nbconvert_exporter": "python",
   "pygments_lexer": "ipython3",
   "version": "3.10.8"
  }
 },
 "nbformat": 4,
 "nbformat_minor": 5
}
