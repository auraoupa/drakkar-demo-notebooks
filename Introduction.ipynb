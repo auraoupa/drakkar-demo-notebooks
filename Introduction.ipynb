{
 "cells": [
  {
   "cell_type": "markdown",
   "id": "474560ee-bab3-43d3-9859-449f64258d06",
   "metadata": {
    "tags": []
   },
   "source": [
    "# Introduction to cloud computing"
   ]
  },
  {
   "cell_type": "markdown",
   "id": "eb3d05cc-eb92-4c22-9e43-591e1a650636",
   "metadata": {},
   "source": [
    "## All the following slides have been taken from Ryan Abernathey's presentation : [Beyond FAIR what data infrastructure does open science need ?](https://speakerdeck.com/rabernat/beyond-fair-talk-for-ooifb-data-systems-committee)"
   ]
  },
  {
   "cell_type": "markdown",
   "id": "4c3c7e71-3cc8-4f46-a289-39a269b708b6",
   "metadata": {},
   "source": [
    "![slide1](images/slide-simulation-big-data.png)"
   ]
  },
  {
   "cell_type": "markdown",
   "id": "8a0f80ad-eb30-41b8-87d0-093c34771796",
   "metadata": {},
   "source": [
    "![slide2](images/slide-open-science.png)"
   ]
  },
  {
   "cell_type": "markdown",
   "id": "af37a193-8464-441c-935e-41db71093b40",
   "metadata": {},
   "source": [
    "![slide3](images/slide-infra.png)"
   ]
  },
  {
   "cell_type": "markdown",
   "id": "75d292bd-2320-48c8-820f-d616a52181cf",
   "metadata": {},
   "source": [
    "![slide4](images/slide-download.png)"
   ]
  },
  {
   "cell_type": "markdown",
   "id": "978a90c8-accf-429d-bb62-1100b861770d",
   "metadata": {},
   "source": [
    "![slide5](images/slide-pangeo-stack.png)"
   ]
  },
  {
   "cell_type": "markdown",
   "id": "9b132e48-2f9d-4ecd-be48-4b36faaaf561",
   "metadata": {},
   "source": [
    "![slide6](images/slide-arco.png)"
   ]
  },
  {
   "cell_type": "markdown",
   "id": "314f1e1b-d903-437b-8e48-a68a053c7e6f",
   "metadata": {},
   "source": [
    "![slide7](images/slide-pangeo-forge.png)"
   ]
  }
 ],
 "metadata": {
  "kernelspec": {
   "display_name": "Python 3 (ipykernel)",
   "language": "python",
   "name": "python3"
  },
  "language_info": {
   "codemirror_mode": {
    "name": "ipython",
    "version": 3
   },
   "file_extension": ".py",
   "mimetype": "text/x-python",
   "name": "python",
   "nbconvert_exporter": "python",
   "pygments_lexer": "ipython3",
   "version": "3.10.8"
  }
 },
 "nbformat": 4,
 "nbformat_minor": 5
}
