{
 "cells": [
  {
   "cell_type": "markdown",
   "id": "474560ee-bab3-43d3-9859-449f64258d06",
   "metadata": {
    "tags": []
   },
   "source": [
    "# Introduction to cloud computing"
   ]
  },
  {
   "cell_type": "code",
   "execution_count": null,
   "id": "99456d7a-427e-4467-833c-98ca95928306",
   "metadata": {},
   "outputs": [],
   "source": []
  }
 ],
 "metadata": {
  "kernelspec": {
   "display_name": "Python 3 (ipykernel)",
   "language": "python",
   "name": "python3"
  },
  "language_info": {
   "codemirror_mode": {
    "name": "ipython",
    "version": 3
   },
   "file_extension": ".py",
   "mimetype": "text/x-python",
   "name": "python",
   "nbconvert_exporter": "python",
   "pygments_lexer": "ipython3",
   "version": "3.10.8"
  }
 },
 "nbformat": 4,
 "nbformat_minor": 5
}
