{
 "cells": [
  {
   "cell_type": "markdown",
   "id": "50344507",
   "metadata": {
    "tags": []
   },
   "source": [
    "# Basic ingredients of cloud computing"
   ]
  },
  {
   "cell_type": "markdown",
   "id": "270ebe59",
   "metadata": {
    "tags": []
   },
   "source": [
    "## Jupyter notebook / Jupyterlab"
   ]
  },
  {
   "cell_type": "markdown",
   "id": "06aad34f",
   "metadata": {},
   "source": [
    "This is where you are right now !\n",
    "\n",
    "You can replace lab by tree to see the notebook interface instead of the lab one"
   ]
  },
  {
   "cell_type": "markdown",
   "id": "61858a5e-ba71-4430-b9d8-30d09b2c22b2",
   "metadata": {},
   "source": [
    "Documentation and try online : https://docs.jupyter.org/en/latest/index.html"
   ]
  },
  {
   "cell_type": "markdown",
   "id": "b254809c-f089-40da-9039-b77f7d90b1de",
   "metadata": {
    "tags": []
   },
   "source": [
    "## Intake"
   ]
  },
  {
   "cell_type": "markdown",
   "id": "d95bd46f-54ec-4858-b660-4b57cfa18008",
   "metadata": {},
   "source": [
    "A package to organize, disseminate datasets.\n",
    "\n",
    "Widely used on the cloud to handle catalogs of data."
   ]
  },
  {
   "cell_type": "code",
   "execution_count": 2,
   "id": "e9de01fa-0ceb-420a-93ce-40ebed0e2cfe",
   "metadata": {},
   "outputs": [
    {
     "ename": "ModuleNotFoundError",
     "evalue": "No module named 'intake'",
     "output_type": "error",
     "traceback": [
      "\u001b[0;31m---------------------------------------------------------------------------\u001b[0m",
      "\u001b[0;31mModuleNotFoundError\u001b[0m                       Traceback (most recent call last)",
      "Cell \u001b[0;32mIn [2], line 1\u001b[0m\n\u001b[0;32m----> 1\u001b[0m \u001b[38;5;28;01mfrom\u001b[39;00m \u001b[38;5;21;01mintake\u001b[39;00m \u001b[38;5;28;01mimport\u001b[39;00m open_catalog\n\u001b[1;32m      3\u001b[0m cat \u001b[38;5;241m=\u001b[39m open_catalog(\u001b[38;5;124m\"\u001b[39m\u001b[38;5;124mhttps://raw.githubusercontent.com/pangeo-data/pangeo-datastore/master/intake-catalogs/master.yaml\u001b[39m\u001b[38;5;124m\"\u001b[39m)\n\u001b[1;32m      4\u001b[0m \u001b[38;5;28mlist\u001b[39m(cat)\n",
      "\u001b[0;31mModuleNotFoundError\u001b[0m: No module named 'intake'"
     ]
    }
   ],
   "source": [
    "from intake import open_catalog\n",
    "\n",
    "cat = open_catalog(\"https://raw.githubusercontent.com/pangeo-data/pangeo-datastore/master/intake-catalogs/master.yaml\")\n",
    "list(cat)"
   ]
  },
  {
   "cell_type": "code",
   "execution_count": null,
   "id": "aa0aa600-d261-4163-a995-2dc7319d0b59",
   "metadata": {},
   "outputs": [],
   "source": []
  },
  {
   "cell_type": "markdown",
   "id": "54fe1171",
   "metadata": {},
   "source": [
    "## Xarray"
   ]
  },
  {
   "cell_type": "code",
   "execution_count": null,
   "id": "6072a219-fe46-41c5-9aa3-9e398744f0ea",
   "metadata": {},
   "outputs": [],
   "source": []
  },
  {
   "cell_type": "markdown",
   "id": "896278e9-3e2b-41c0-bfff-2ed9ff276976",
   "metadata": {},
   "source": [
    "How to handle multi dimensional data\n",
    "\n",
    "DataArray : dictionary-like containers of mutliple arrays with multiple dimensions\n",
    "\n",
    "So you have data and metadata, coordinates for instance\n",
    "\n",
    "Documentation and tutorial : https://tutorial.xarray.dev/intro.html"
   ]
  },
  {
   "cell_type": "code",
   "execution_count": 1,
   "id": "748c5154",
   "metadata": {},
   "outputs": [],
   "source": [
    "import xarray as xr"
   ]
  },
  {
   "cell_type": "code",
   "execution_count": null,
   "id": "481cf12c",
   "metadata": {},
   "outputs": [],
   "source": []
  },
  {
   "cell_type": "markdown",
   "id": "74b30114",
   "metadata": {},
   "source": [
    "## Dask"
   ]
  },
  {
   "cell_type": "code",
   "execution_count": null,
   "id": "8087cc28",
   "metadata": {},
   "outputs": [],
   "source": []
  },
  {
   "cell_type": "code",
   "execution_count": null,
   "id": "b6cd7e77",
   "metadata": {},
   "outputs": [],
   "source": []
  },
  {
   "cell_type": "code",
   "execution_count": null,
   "id": "8e7eaf20",
   "metadata": {},
   "outputs": [],
   "source": []
  }
 ],
 "metadata": {
  "kernelspec": {
   "display_name": "Python 3 (ipykernel)",
   "language": "python",
   "name": "python3"
  },
  "language_info": {
   "codemirror_mode": {
    "name": "ipython",
    "version": 3
   },
   "file_extension": ".py",
   "mimetype": "text/x-python",
   "name": "python",
   "nbconvert_exporter": "python",
   "pygments_lexer": "ipython3",
   "version": "3.9.15"
  }
 },
 "nbformat": 4,
 "nbformat_minor": 5
}
